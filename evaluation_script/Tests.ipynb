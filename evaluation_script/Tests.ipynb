{
 "cells": [
  {
   "cell_type": "markdown",
   "metadata": {},
   "source": [
    "# Testing"
   ]
  },
  {
   "cell_type": "code",
   "execution_count": 2,
   "metadata": {},
   "outputs": [
    {
     "name": "stdout",
     "output_type": "stream",
     "text": [
      "Starting Evaluation.....\n",
      "Evaluating for Test Phase\n",
      "Completed evaluation for test\n"
     ]
    },
    {
     "data": {
      "text/plain": [
       "{'result': [{'test': {'final_train_loss': 7.026580663348016e-05,\n",
       "    'final_val_loss': 0.007809871711591161}}]}"
      ]
     },
     "execution_count": 2,
     "metadata": {},
     "output_type": "execute_result"
    }
   ],
   "source": [
    "from main import evaluate\n",
    "\n",
    "evaluate(test_annotation_file_path='../annotations/test_annotations_devsplit.json',\n",
    "         user_submission_file_path='../submission_df.csv',\n",
    "         phase_codename='test')"
   ]
  }
 ],
 "metadata": {
  "kernelspec": {
   "display_name": "e2s",
   "language": "python",
   "name": "python3"
  },
  "language_info": {
   "codemirror_mode": {
    "name": "ipython",
    "version": 3
   },
   "file_extension": ".py",
   "mimetype": "text/x-python",
   "name": "python",
   "nbconvert_exporter": "python",
   "pygments_lexer": "ipython3",
   "version": "3.9.20"
  }
 },
 "nbformat": 4,
 "nbformat_minor": 2
}
